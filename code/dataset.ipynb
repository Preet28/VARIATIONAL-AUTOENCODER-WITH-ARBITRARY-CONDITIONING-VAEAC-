{
 "cells": [
  {
   "cell_type": "code",
   "execution_count": 1,
   "id": "4ad01284",
   "metadata": {},
   "outputs": [],
   "source": [
    "import os\n",
    "import torch\n",
    "from torchvision import datasets, transforms\n",
    "from torchvision.utils import save_image\n"
   ]
  },
  {
   "cell_type": "code",
<<<<<<< HEAD
   "execution_count": null,
=======
   "execution_count": 2,
>>>>>>> 310e122 (VAEAC With Horizontal Done -Code By Dhruv Panchal)
   "id": "6844536c",
   "metadata": {},
   "outputs": [],
   "source": [
    "root_dir = \"/home/dhruv/Documents/Dhruv_CV/VARIATIONAL-AUTOENCODER-WITH-ARBITRARY-CONDITIONING-VAEAC-/Data\"\n",
    "mask_types = [\"horizontal\", \"vertical\"]\n",
    "folders = [\n",
    "    \"original\",\n",
    "    \"horizontal_mask\",\n",
    "    \"horizontal_mask_observed_image\",\n",
    "    \"horizontal_mask_unobserved_image\",\n",
    "    \"vertical_mask\",\n",
    "    \"vertical_mask_observed_image\",\n",
    "    \"vertical_mask_unobserved_image\"\n",
    "]\n",
    "\n",
    "\n",
    "# Create folder structure\n",
    "for f in folders:\n",
    "    for label in range(10):\n",
    "        os.makedirs(os.path.join(root_dir, f, str(label)), exist_ok=True)"
   ]
  },
  {
   "cell_type": "code",
<<<<<<< HEAD
   "execution_count": 4,
=======
   "execution_count": 3,
>>>>>>> 310e122 (VAEAC With Horizontal Done -Code By Dhruv Panchal)
   "id": "cd9d74b4",
   "metadata": {},
   "outputs": [],
   "source": [
<<<<<<< HEAD
    "def generate_horizontal_mask(h, w, num_lines=1):\n",
    "    \"\"\"Generate horizontal line mask (1 = visible, 0 = masked).\"\"\"\n",
    "    mask = torch.ones((1, h, w))\n",
    "    for _ in range(num_lines):\n",
    "        y = torch.randint(0, h, (1,)).item()\n",
    "        mask[:, y, :] = 0.0\n",
    "    return mask\n"
   ]
  },
  {
   "cell_type": "code",
   "execution_count": 5,
   "id": "a7bf9fa8",
   "metadata": {},
   "outputs": [],
   "source": [
    "def generate_vertical_mask(h, w, num_lines=1):\n",
    "    \"\"\"Generate vertical line mask (1 = visible, 0 = masked).\"\"\"\n",
    "    mask = torch.ones((1, h, w))\n",
    "    for _ in range(num_lines):\n",
    "        x = torch.randint(0, w, (1,)).item()\n",
    "        mask[:, :, x] = 0.0\n",
    "    return mask"
=======
    "def generate_horizontal_mask(h, w, num_lines=1, center_fraction=0.4):\n",
    "    \"\"\"\n",
    "    Generate horizontal line mask (1 = visible, 0 = masked).\n",
    "    Lines are centered around the middle of the image.\n",
    "    \"\"\"\n",
    "    mask = torch.ones((1, h, w))\n",
    "    \n",
    "    # Define central region for line placement\n",
    "    center_start = int(h * (0.5 - center_fraction / 2))\n",
    "    center_end = int(h * (0.5 + center_fraction / 2))\n",
    "    \n",
    "    for _ in range(num_lines):\n",
    "        # Sample line only within the central vertical band\n",
    "        y = torch.randint(center_start, center_end, (1,)).item()\n",
    "        mask[:, y, :] = 0.0\n",
    "    \n",
    "    return mask\n",
    "\n",
    "\n",
    "def generate_vertical_mask(h, w, num_lines=1, center_fraction=0.4):\n",
    "    \"\"\"\n",
    "    Generate vertical line mask (1 = visible, 0 = masked).\n",
    "    Lines are centered around the middle of the image.\n",
    "    \"\"\"\n",
    "    mask = torch.ones((1, h, w))\n",
    "    \n",
    "    # Define central region for line placement\n",
    "    center_start = int(w * (0.5 - center_fraction / 2))\n",
    "    center_end = int(w * (0.5 + center_fraction / 2))\n",
    "    \n",
    "    for _ in range(num_lines):\n",
    "        # Sample line only within the central horizontal band\n",
    "        x = torch.randint(center_start, center_end, (1,)).item()\n",
    "        mask[:, :, x] = 0.0\n",
    "    \n",
    "    return mask\n"
>>>>>>> 310e122 (VAEAC With Horizontal Done -Code By Dhruv Panchal)
   ]
  },
  {
   "cell_type": "code",
<<<<<<< HEAD
   "execution_count": 6,
=======
   "execution_count": 5,
>>>>>>> 310e122 (VAEAC With Horizontal Done -Code By Dhruv Panchal)
   "id": "68512cf0",
   "metadata": {},
   "outputs": [
    {
     "name": "stderr",
     "output_type": "stream",
     "text": [
<<<<<<< HEAD
      "100.0%\n",
      "100.0%\n",
      "100.0%\n",
      "100.0%\n"
=======
      "100%|██████████| 9.91M/9.91M [00:03<00:00, 3.18MB/s]\n",
      "100%|██████████| 28.9k/28.9k [00:00<00:00, 137kB/s]\n",
      "100%|██████████| 1.65M/1.65M [00:01<00:00, 927kB/s] \n",
      "100%|██████████| 4.54k/4.54k [00:00<00:00, 6.82MB/s]\n"
>>>>>>> 310e122 (VAEAC With Horizontal Done -Code By Dhruv Panchal)
     ]
    },
    {
     "name": "stdout",
     "output_type": "stream",
     "text": [
      "Processed 0/60000 images\n",
      "Processed 1000/60000 images\n",
      "Processed 2000/60000 images\n",
      "Processed 3000/60000 images\n",
      "Processed 4000/60000 images\n",
      "Processed 5000/60000 images\n",
      "Processed 6000/60000 images\n",
      "Processed 7000/60000 images\n",
      "Processed 8000/60000 images\n",
      "Processed 9000/60000 images\n",
      "Processed 10000/60000 images\n",
      "Processed 11000/60000 images\n",
      "Processed 12000/60000 images\n",
      "Processed 13000/60000 images\n",
      "Processed 14000/60000 images\n",
      "Processed 15000/60000 images\n",
      "Processed 16000/60000 images\n",
      "Processed 17000/60000 images\n",
      "Processed 18000/60000 images\n",
      "Processed 19000/60000 images\n",
      "Processed 20000/60000 images\n",
      "Processed 21000/60000 images\n",
      "Processed 22000/60000 images\n",
      "Processed 23000/60000 images\n",
      "Processed 24000/60000 images\n",
      "Processed 25000/60000 images\n",
      "Processed 26000/60000 images\n",
      "Processed 27000/60000 images\n",
      "Processed 28000/60000 images\n",
      "Processed 29000/60000 images\n",
      "Processed 30000/60000 images\n",
      "Processed 31000/60000 images\n",
      "Processed 32000/60000 images\n",
      "Processed 33000/60000 images\n",
      "Processed 34000/60000 images\n",
      "Processed 35000/60000 images\n",
      "Processed 36000/60000 images\n",
      "Processed 37000/60000 images\n",
      "Processed 38000/60000 images\n",
      "Processed 39000/60000 images\n",
      "Processed 40000/60000 images\n",
      "Processed 41000/60000 images\n",
      "Processed 42000/60000 images\n",
      "Processed 43000/60000 images\n",
      "Processed 44000/60000 images\n",
      "Processed 45000/60000 images\n",
      "Processed 46000/60000 images\n",
      "Processed 47000/60000 images\n",
      "Processed 48000/60000 images\n",
      "Processed 49000/60000 images\n",
      "Processed 50000/60000 images\n",
      "Processed 51000/60000 images\n",
      "Processed 52000/60000 images\n",
      "Processed 53000/60000 images\n",
      "Processed 54000/60000 images\n",
      "Processed 55000/60000 images\n",
      "Processed 56000/60000 images\n",
      "Processed 57000/60000 images\n",
      "Processed 58000/60000 images\n",
      "Processed 59000/60000 images\n",
      "Done! All images and masks saved in: /home/dhruv/Documents/Dhruv_CV/VARIATIONAL-AUTOENCODER-WITH-ARBITRARY-CONDITIONING-VAEAC-/Data\n"
     ]
    }
   ],
   "source": [
    "transform = transforms.ToTensor()\n",
    "mnist = datasets.MNIST(root=\"./\", train=True, download=True, transform=transform)\n",
    "\n",
    "for i, (img, label) in enumerate(mnist):\n",
    "    c, h, w = img.shape\n",
    "\n",
    "    # Generate line masks\n",
    "    horiz_mask = generate_horizontal_mask(h, w, num_lines=1)\n",
    "    vert_mask = generate_vertical_mask(h, w, num_lines=1)\n",
    "\n",
    "    # Apply masks\n",
    "    horiz_masked_obs = img * horiz_mask\n",
    "    horiz_masked_unobs = img * (1 - horiz_mask)\n",
    "\n",
    "    vert_masked_obs = img * vert_mask\n",
    "    vert_masked_unobs = img * (1 - vert_mask)\n",
    "\n",
    "    save_image(img, os.path.join(root_dir, \"original\", str(label), f\"{i:05d}.png\"))\n",
    "    save_image(horiz_mask, os.path.join(root_dir, \"horizontal_mask\", str(label), f\"{i:05d}.png\"))\n",
    "    save_image(horiz_masked_obs, os.path.join(root_dir, \"horizontal_mask_observed_image\", str(label), f\"{i:05d}.png\"))\n",
    "    save_image(horiz_masked_unobs, os.path.join(root_dir, \"horizontal_mask_unobserved_image\", str(label), f\"{i:05d}.png\"))\n",
    "    save_image(vert_mask, os.path.join(root_dir, \"vertical_mask\", str(label), f\"{i:05d}.png\"))\n",
    "    save_image(vert_masked_obs, os.path.join(root_dir, \"vertical_mask_observed_image\", str(label), f\"{i:05d}.png\"))\n",
    "    save_image(vert_masked_unobs, os.path.join(root_dir, \"vertical_mask_unobserved_image\", str(label), f\"{i:05d}.png\"))\n",
    "\n",
    "\n",
    "    if i % 1000 == 0:\n",
    "        print(f\"Processed {i}/{len(mnist)} images\")\n",
    "\n",
    "print(\"Done! All images and masks saved in:\", root_dir)\n"
   ]
  },
  {
   "cell_type": "code",
<<<<<<< HEAD
   "execution_count": 8,
=======
   "execution_count": 6,
>>>>>>> 310e122 (VAEAC With Horizontal Done -Code By Dhruv Panchal)
   "id": "18c4f921",
   "metadata": {},
   "outputs": [],
   "source": [
    "import os\n",
    "import shutil\n",
    "import random\n",
    "from tqdm import tqdm"
   ]
  },
  {
   "cell_type": "code",
   "execution_count": null,
   "id": "8d6800d2",
   "metadata": {},
   "outputs": [],
   "source": []
  },
  {
   "cell_type": "code",
<<<<<<< HEAD
   "execution_count": 9,
=======
   "execution_count": 8,
>>>>>>> 310e122 (VAEAC With Horizontal Done -Code By Dhruv Panchal)
   "id": "03f7da19",
   "metadata": {},
   "outputs": [
    {
     "name": "stdout",
     "output_type": "stream",
     "text": [
      "Copying train data (48000 samples)...\n"
     ]
    },
    {
     "name": "stderr",
     "output_type": "stream",
     "text": [
<<<<<<< HEAD
      "100%|██████████| 48000/48000 [00:12<00:00, 3930.15it/s]\n"
=======
      "100%|██████████| 48000/48000 [00:12<00:00, 3868.35it/s]\n"
>>>>>>> 310e122 (VAEAC With Horizontal Done -Code By Dhruv Panchal)
     ]
    },
    {
     "name": "stdout",
     "output_type": "stream",
     "text": [
      "Copying test data (12000 samples)...\n"
     ]
    },
    {
     "name": "stderr",
     "output_type": "stream",
     "text": [
<<<<<<< HEAD
      "100%|██████████| 12000/12000 [00:03<00:00, 3914.44it/s]\n"
=======
      "100%|██████████| 12000/12000 [00:03<00:00, 3746.13it/s]\n"
>>>>>>> 310e122 (VAEAC With Horizontal Done -Code By Dhruv Panchal)
     ]
    }
   ],
   "source": [
    "root_dir = \"/home/dhruv/Documents/Dhruv_CV/VARIATIONAL-AUTOENCODER-WITH-ARBITRARY-CONDITIONING-VAEAC-/Data\"\n",
    "\n",
    "\n",
    "folders = {\n",
    "    \"original\": \"original\",\n",
    "    \"horizontal_mask\": \"horizontal_mask\",\n",
    "    \"horizontal_observed\": \"horizontal_mask_observed_image\",\n",
    "    \"horizontal_unobserved\": \"horizontal_mask_unobserved_image\",\n",
    "    \"vertical_mask\": \"vertical_mask\",\n",
    "    \"vertical_observed\": \"vertical_mask_observed_image\",\n",
    "    \"vertical_unobserved\": \"vertical_mask_unobserved_image\"\n",
    "}\n",
    "\n",
    "output_root = os.path.join(root_dir, \"split_data\")\n",
    "train_ratio = 0.8\n",
    "random.seed(42)  # for reproducibility\n",
    "\n",
    "def make_dir(path):\n",
    "    if not os.path.exists(path):\n",
    "        os.makedirs(path)\n",
    "\n",
    "# Create train/test directories for each folder type\n",
    "for split in [\"train\", \"test\"]:\n",
    "    for folder in folders.values():\n",
    "        make_dir(os.path.join(output_root, split, folder))\n",
    "\n",
    "# Collect all (label, filename) pairs from \"original\"\n",
    "all_images = []\n",
    "for label in range(10):\n",
    "    label_dir = os.path.join(root_dir, folders[\"original\"], str(label))\n",
    "    for filename in os.listdir(label_dir):\n",
    "        all_images.append((label, filename))\n",
    "\n",
    "random.shuffle(all_images)\n",
    "\n",
    "# Split into train/test\n",
    "split_index = int(len(all_images) * train_ratio)\n",
    "train_data = all_images[:split_index]\n",
    "test_data = all_images[split_index:]\n",
    "\n",
    "# Helper function to copy and rename files\n",
    "def copy_data(data_list, split):\n",
    "    print(f\"Copying {split} data ({len(data_list)} samples)...\")\n",
    "    for idx, (label, filename) in enumerate(tqdm(data_list, total=len(data_list))):\n",
    "        new_filename = f\"{idx + 1}.png\"  # rename sequentially\n",
    "        for folder_name in folders.values():\n",
    "            src = os.path.join(root_dir, folder_name, str(label), filename)\n",
    "            dst = os.path.join(output_root, split, folder_name, new_filename)\n",
    "            if os.path.exists(src):\n",
    "                shutil.copy(src, dst)\n",
    "\n",
    "# Copy data\n",
    "copy_data(train_data, \"train\")\n",
    "copy_data(test_data, \"test\")\n"
   ]
  },
  {
   "cell_type": "code",
   "execution_count": null,
   "id": "1c8b4479",
   "metadata": {},
   "outputs": [],
   "source": []
  }
 ],
 "metadata": {
  "kernelspec": {
   "display_name": "vaeac",
   "language": "python",
   "name": "python3"
  },
  "language_info": {
   "codemirror_mode": {
    "name": "ipython",
    "version": 3
   },
   "file_extension": ".py",
   "mimetype": "text/x-python",
   "name": "python",
   "nbconvert_exporter": "python",
   "pygments_lexer": "ipython3",
   "version": "3.12.3"
  }
 },
 "nbformat": 4,
 "nbformat_minor": 5
}
